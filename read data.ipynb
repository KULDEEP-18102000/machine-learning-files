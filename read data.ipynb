{
 "cells": [
  {
   "cell_type": "code",
   "execution_count": 1,
   "id": "7908a461",
   "metadata": {},
   "outputs": [],
   "source": [
    "import pandas as pd"
   ]
  },
  {
   "cell_type": "code",
   "execution_count": 5,
   "id": "d04163bb",
   "metadata": {},
   "outputs": [],
   "source": [
    "df=pd.read_csv('data.csv')"
   ]
  },
  {
   "cell_type": "code",
   "execution_count": 7,
   "id": "743a588e",
   "metadata": {
    "scrolled": true
   },
   "outputs": [
    {
     "data": {
      "text/html": [
       "<div>\n",
       "<style scoped>\n",
       "    .dataframe tbody tr th:only-of-type {\n",
       "        vertical-align: middle;\n",
       "    }\n",
       "\n",
       "    .dataframe tbody tr th {\n",
       "        vertical-align: top;\n",
       "    }\n",
       "\n",
       "    .dataframe thead th {\n",
       "        text-align: right;\n",
       "    }\n",
       "</style>\n",
       "<table border=\"1\" class=\"dataframe\">\n",
       "  <thead>\n",
       "    <tr style=\"text-align: right;\">\n",
       "      <th></th>\n",
       "      <th>Date</th>\n",
       "      <th>Open</th>\n",
       "      <th>High</th>\n",
       "      <th>Low</th>\n",
       "      <th>Close</th>\n",
       "      <th>Shares Traded</th>\n",
       "      <th>Turnover (Rs. Cr)</th>\n",
       "    </tr>\n",
       "  </thead>\n",
       "  <tbody>\n",
       "    <tr>\n",
       "      <th>0</th>\n",
       "      <td>01-Jan-2021</td>\n",
       "      <td>13996.10</td>\n",
       "      <td>14049.85</td>\n",
       "      <td>13991.35</td>\n",
       "      <td>14018.50</td>\n",
       "      <td>258090905</td>\n",
       "      <td>15873.75</td>\n",
       "    </tr>\n",
       "    <tr>\n",
       "      <th>1</th>\n",
       "      <td>04-Jan-2021</td>\n",
       "      <td>14104.35</td>\n",
       "      <td>14147.95</td>\n",
       "      <td>13953.75</td>\n",
       "      <td>14132.90</td>\n",
       "      <td>494999295</td>\n",
       "      <td>28705.09</td>\n",
       "    </tr>\n",
       "    <tr>\n",
       "      <th>2</th>\n",
       "      <td>05-Jan-2021</td>\n",
       "      <td>14075.15</td>\n",
       "      <td>14215.60</td>\n",
       "      <td>14048.15</td>\n",
       "      <td>14199.50</td>\n",
       "      <td>492475349</td>\n",
       "      <td>30872.87</td>\n",
       "    </tr>\n",
       "    <tr>\n",
       "      <th>3</th>\n",
       "      <td>06-Jan-2021</td>\n",
       "      <td>14240.95</td>\n",
       "      <td>14244.15</td>\n",
       "      <td>14039.90</td>\n",
       "      <td>14146.25</td>\n",
       "      <td>632323316</td>\n",
       "      <td>34615.55</td>\n",
       "    </tr>\n",
       "    <tr>\n",
       "      <th>4</th>\n",
       "      <td>07-Jan-2021</td>\n",
       "      <td>14253.75</td>\n",
       "      <td>14256.25</td>\n",
       "      <td>14123.10</td>\n",
       "      <td>14137.35</td>\n",
       "      <td>559173512</td>\n",
       "      <td>33446.47</td>\n",
       "    </tr>\n",
       "  </tbody>\n",
       "</table>\n",
       "</div>"
      ],
      "text/plain": [
       "          Date      Open      High       Low     Close  Shares Traded  \\\n",
       "0  01-Jan-2021  13996.10  14049.85  13991.35  14018.50      258090905   \n",
       "1  04-Jan-2021  14104.35  14147.95  13953.75  14132.90      494999295   \n",
       "2  05-Jan-2021  14075.15  14215.60  14048.15  14199.50      492475349   \n",
       "3  06-Jan-2021  14240.95  14244.15  14039.90  14146.25      632323316   \n",
       "4  07-Jan-2021  14253.75  14256.25  14123.10  14137.35      559173512   \n",
       "\n",
       "   Turnover (Rs. Cr)  \n",
       "0           15873.75  \n",
       "1           28705.09  \n",
       "2           30872.87  \n",
       "3           34615.55  \n",
       "4           33446.47  "
      ]
     },
     "execution_count": 7,
     "metadata": {},
     "output_type": "execute_result"
    }
   ],
   "source": [
    "df.head()"
   ]
  },
  {
   "cell_type": "code",
   "execution_count": 9,
   "id": "cfebfbe1",
   "metadata": {},
   "outputs": [
    {
     "name": "stdout",
     "output_type": "stream",
     "text": [
      "object\n"
     ]
    }
   ],
   "source": [
    "print(df['Date'].dtype)"
   ]
  },
  {
   "cell_type": "code",
   "execution_count": 11,
   "id": "0ab94161",
   "metadata": {},
   "outputs": [
    {
     "name": "stdout",
     "output_type": "stream",
     "text": [
      "0      258090905\n",
      "1      494999295\n",
      "2      492475349\n",
      "3      632323316\n",
      "4      559173512\n",
      "         ...    \n",
      "171    241053924\n",
      "172    230354386\n",
      "173    388191629\n",
      "174    503310763\n",
      "175    508285916\n",
      "Name: Shares Traded, Length: 176, dtype: int64\n"
     ]
    }
   ],
   "source": [
    "print(df['Shares Traded'])"
   ]
  },
  {
   "cell_type": "code",
   "execution_count": 12,
   "id": "639fafb5",
   "metadata": {},
   "outputs": [
    {
     "name": "stdout",
     "output_type": "stream",
     "text": [
      "0      258090905\n",
      "1      494999295\n",
      "2      492475349\n",
      "3      632323316\n",
      "4      559173512\n",
      "         ...    \n",
      "171    241053924\n",
      "172    230354386\n",
      "173    388191629\n",
      "174    503310763\n",
      "175    508285916\n",
      "Name: Shares Traded, Length: 176, dtype: category\n",
      "Categories (176, int64): [207032153, 216272488, 217405743, 224921644, ..., 919178208, 929566952, 935629058, 1103644519]\n"
     ]
    }
   ],
   "source": [
    "print(df['Shares Traded'].astype('category'))"
   ]
  }
 ],
 "metadata": {
  "kernelspec": {
   "display_name": "Python 3",
   "language": "python",
   "name": "python3"
  },
  "language_info": {
   "codemirror_mode": {
    "name": "ipython",
    "version": 3
   },
   "file_extension": ".py",
   "mimetype": "text/x-python",
   "name": "python",
   "nbconvert_exporter": "python",
   "pygments_lexer": "ipython3",
   "version": "3.8.8"
  }
 },
 "nbformat": 4,
 "nbformat_minor": 5
}
